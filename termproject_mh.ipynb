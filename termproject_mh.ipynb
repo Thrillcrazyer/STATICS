{
 "cells": [
  {
   "cell_type": "markdown",
   "id": "e0401810",
   "metadata": {},
   "source": [
    "- 귀무가설(H0): 이동 거리는 최종 순위에 유의미한 영향을 미치지 않는다.\n",
    "- 대립가설(H1): 이동 거리는 최종 순위에 유의미한 영향을 미친다."
   ]
  },
  {
   "cell_type": "code",
   "execution_count": 15,
   "id": "edfa2bac",
   "metadata": {},
   "outputs": [],
   "source": [
    "import pandas as pd\n",
    "import numpy as np\n",
    "import matplotlib.pyplot as plt\n",
    "import seaborn as sns\n",
    "import scipy.stats as stats\n",
    "import statsmodels.api as sm\n",
    "import statsmodels.formula.api as smf\n",
    "from statsmodels.stats.outliers_influence import variance_inflation_factor\n",
    "\n",
    "df = pd.read_csv(r'C:\\Users\\ming\\Downloads\\pubg-finish-placement-prediction\\train_V2.csv')"
   ]
  },
  {
   "cell_type": "code",
   "execution_count": 16,
   "id": "572626c6",
   "metadata": {},
   "outputs": [
    {
     "data": {
      "text/html": [
       "<div>\n",
       "<style scoped>\n",
       "    .dataframe tbody tr th:only-of-type {\n",
       "        vertical-align: middle;\n",
       "    }\n",
       "\n",
       "    .dataframe tbody tr th {\n",
       "        vertical-align: top;\n",
       "    }\n",
       "\n",
       "    .dataframe thead th {\n",
       "        text-align: right;\n",
       "    }\n",
       "</style>\n",
       "<table border=\"1\" class=\"dataframe\">\n",
       "  <thead>\n",
       "    <tr style=\"text-align: right;\">\n",
       "      <th></th>\n",
       "      <th>Id</th>\n",
       "      <th>groupId</th>\n",
       "      <th>matchId</th>\n",
       "      <th>assists</th>\n",
       "      <th>boosts</th>\n",
       "      <th>damageDealt</th>\n",
       "      <th>DBNOs</th>\n",
       "      <th>headshotKills</th>\n",
       "      <th>heals</th>\n",
       "      <th>killPlace</th>\n",
       "      <th>...</th>\n",
       "      <th>revives</th>\n",
       "      <th>rideDistance</th>\n",
       "      <th>roadKills</th>\n",
       "      <th>swimDistance</th>\n",
       "      <th>teamKills</th>\n",
       "      <th>vehicleDestroys</th>\n",
       "      <th>walkDistance</th>\n",
       "      <th>weaponsAcquired</th>\n",
       "      <th>winPoints</th>\n",
       "      <th>winPlacePerc</th>\n",
       "    </tr>\n",
       "  </thead>\n",
       "  <tbody>\n",
       "    <tr>\n",
       "      <th>0</th>\n",
       "      <td>7f96b2f878858a</td>\n",
       "      <td>4d4b580de459be</td>\n",
       "      <td>a10357fd1a4a91</td>\n",
       "      <td>0</td>\n",
       "      <td>0</td>\n",
       "      <td>0.00</td>\n",
       "      <td>0</td>\n",
       "      <td>0</td>\n",
       "      <td>0</td>\n",
       "      <td>60</td>\n",
       "      <td>...</td>\n",
       "      <td>0</td>\n",
       "      <td>0.0000</td>\n",
       "      <td>0</td>\n",
       "      <td>0.000</td>\n",
       "      <td>0</td>\n",
       "      <td>0</td>\n",
       "      <td>244.80</td>\n",
       "      <td>1</td>\n",
       "      <td>1466</td>\n",
       "      <td>0.4444</td>\n",
       "    </tr>\n",
       "    <tr>\n",
       "      <th>1</th>\n",
       "      <td>eef90569b9d03c</td>\n",
       "      <td>684d5656442f9e</td>\n",
       "      <td>aeb375fc57110c</td>\n",
       "      <td>0</td>\n",
       "      <td>0</td>\n",
       "      <td>91.47</td>\n",
       "      <td>0</td>\n",
       "      <td>0</td>\n",
       "      <td>0</td>\n",
       "      <td>57</td>\n",
       "      <td>...</td>\n",
       "      <td>0</td>\n",
       "      <td>0.0045</td>\n",
       "      <td>0</td>\n",
       "      <td>11.040</td>\n",
       "      <td>0</td>\n",
       "      <td>0</td>\n",
       "      <td>1434.00</td>\n",
       "      <td>5</td>\n",
       "      <td>0</td>\n",
       "      <td>0.6400</td>\n",
       "    </tr>\n",
       "    <tr>\n",
       "      <th>2</th>\n",
       "      <td>1eaf90ac73de72</td>\n",
       "      <td>6a4a42c3245a74</td>\n",
       "      <td>110163d8bb94ae</td>\n",
       "      <td>1</td>\n",
       "      <td>0</td>\n",
       "      <td>68.00</td>\n",
       "      <td>0</td>\n",
       "      <td>0</td>\n",
       "      <td>0</td>\n",
       "      <td>47</td>\n",
       "      <td>...</td>\n",
       "      <td>0</td>\n",
       "      <td>0.0000</td>\n",
       "      <td>0</td>\n",
       "      <td>0.000</td>\n",
       "      <td>0</td>\n",
       "      <td>0</td>\n",
       "      <td>161.80</td>\n",
       "      <td>2</td>\n",
       "      <td>0</td>\n",
       "      <td>0.7755</td>\n",
       "    </tr>\n",
       "    <tr>\n",
       "      <th>3</th>\n",
       "      <td>4616d365dd2853</td>\n",
       "      <td>a930a9c79cd721</td>\n",
       "      <td>f1f1f4ef412d7e</td>\n",
       "      <td>0</td>\n",
       "      <td>0</td>\n",
       "      <td>32.90</td>\n",
       "      <td>0</td>\n",
       "      <td>0</td>\n",
       "      <td>0</td>\n",
       "      <td>75</td>\n",
       "      <td>...</td>\n",
       "      <td>0</td>\n",
       "      <td>0.0000</td>\n",
       "      <td>0</td>\n",
       "      <td>0.000</td>\n",
       "      <td>0</td>\n",
       "      <td>0</td>\n",
       "      <td>202.70</td>\n",
       "      <td>3</td>\n",
       "      <td>0</td>\n",
       "      <td>0.1667</td>\n",
       "    </tr>\n",
       "    <tr>\n",
       "      <th>4</th>\n",
       "      <td>315c96c26c9aac</td>\n",
       "      <td>de04010b3458dd</td>\n",
       "      <td>6dc8ff871e21e6</td>\n",
       "      <td>0</td>\n",
       "      <td>0</td>\n",
       "      <td>100.00</td>\n",
       "      <td>0</td>\n",
       "      <td>0</td>\n",
       "      <td>0</td>\n",
       "      <td>45</td>\n",
       "      <td>...</td>\n",
       "      <td>0</td>\n",
       "      <td>0.0000</td>\n",
       "      <td>0</td>\n",
       "      <td>0.000</td>\n",
       "      <td>0</td>\n",
       "      <td>0</td>\n",
       "      <td>49.75</td>\n",
       "      <td>2</td>\n",
       "      <td>0</td>\n",
       "      <td>0.1875</td>\n",
       "    </tr>\n",
       "    <tr>\n",
       "      <th>...</th>\n",
       "      <td>...</td>\n",
       "      <td>...</td>\n",
       "      <td>...</td>\n",
       "      <td>...</td>\n",
       "      <td>...</td>\n",
       "      <td>...</td>\n",
       "      <td>...</td>\n",
       "      <td>...</td>\n",
       "      <td>...</td>\n",
       "      <td>...</td>\n",
       "      <td>...</td>\n",
       "      <td>...</td>\n",
       "      <td>...</td>\n",
       "      <td>...</td>\n",
       "      <td>...</td>\n",
       "      <td>...</td>\n",
       "      <td>...</td>\n",
       "      <td>...</td>\n",
       "      <td>...</td>\n",
       "      <td>...</td>\n",
       "      <td>...</td>\n",
       "    </tr>\n",
       "    <tr>\n",
       "      <th>4446961</th>\n",
       "      <td>afff7f652dbc10</td>\n",
       "      <td>d238e426f50de7</td>\n",
       "      <td>18492834ce5635</td>\n",
       "      <td>0</td>\n",
       "      <td>0</td>\n",
       "      <td>0.00</td>\n",
       "      <td>0</td>\n",
       "      <td>0</td>\n",
       "      <td>0</td>\n",
       "      <td>74</td>\n",
       "      <td>...</td>\n",
       "      <td>0</td>\n",
       "      <td>1292.0000</td>\n",
       "      <td>0</td>\n",
       "      <td>0.000</td>\n",
       "      <td>0</td>\n",
       "      <td>0</td>\n",
       "      <td>1019.00</td>\n",
       "      <td>3</td>\n",
       "      <td>1507</td>\n",
       "      <td>0.1786</td>\n",
       "    </tr>\n",
       "    <tr>\n",
       "      <th>4446962</th>\n",
       "      <td>f4197cf374e6c0</td>\n",
       "      <td>408cdb5c46b2ac</td>\n",
       "      <td>ee854b837376d9</td>\n",
       "      <td>0</td>\n",
       "      <td>1</td>\n",
       "      <td>44.15</td>\n",
       "      <td>0</td>\n",
       "      <td>0</td>\n",
       "      <td>0</td>\n",
       "      <td>69</td>\n",
       "      <td>...</td>\n",
       "      <td>0</td>\n",
       "      <td>0.0000</td>\n",
       "      <td>0</td>\n",
       "      <td>0.000</td>\n",
       "      <td>0</td>\n",
       "      <td>0</td>\n",
       "      <td>81.70</td>\n",
       "      <td>6</td>\n",
       "      <td>0</td>\n",
       "      <td>0.2935</td>\n",
       "    </tr>\n",
       "    <tr>\n",
       "      <th>4446963</th>\n",
       "      <td>e1948b1295c88a</td>\n",
       "      <td>e26ac84bdf7cef</td>\n",
       "      <td>6d0cd12784f1ab</td>\n",
       "      <td>0</td>\n",
       "      <td>0</td>\n",
       "      <td>59.06</td>\n",
       "      <td>0</td>\n",
       "      <td>0</td>\n",
       "      <td>0</td>\n",
       "      <td>66</td>\n",
       "      <td>...</td>\n",
       "      <td>0</td>\n",
       "      <td>0.0000</td>\n",
       "      <td>0</td>\n",
       "      <td>2.184</td>\n",
       "      <td>0</td>\n",
       "      <td>0</td>\n",
       "      <td>788.70</td>\n",
       "      <td>4</td>\n",
       "      <td>0</td>\n",
       "      <td>0.4815</td>\n",
       "    </tr>\n",
       "    <tr>\n",
       "      <th>4446964</th>\n",
       "      <td>cc032cdd73b7ac</td>\n",
       "      <td>c2223f35411394</td>\n",
       "      <td>c9c701d0ad758a</td>\n",
       "      <td>0</td>\n",
       "      <td>4</td>\n",
       "      <td>180.40</td>\n",
       "      <td>1</td>\n",
       "      <td>1</td>\n",
       "      <td>2</td>\n",
       "      <td>11</td>\n",
       "      <td>...</td>\n",
       "      <td>2</td>\n",
       "      <td>0.0000</td>\n",
       "      <td>0</td>\n",
       "      <td>0.000</td>\n",
       "      <td>0</td>\n",
       "      <td>0</td>\n",
       "      <td>2748.00</td>\n",
       "      <td>8</td>\n",
       "      <td>0</td>\n",
       "      <td>0.8000</td>\n",
       "    </tr>\n",
       "    <tr>\n",
       "      <th>4446965</th>\n",
       "      <td>0d8e7ed728b6fd</td>\n",
       "      <td>8c74f72fedf5ff</td>\n",
       "      <td>62a16aabcc095c</td>\n",
       "      <td>0</td>\n",
       "      <td>2</td>\n",
       "      <td>268.00</td>\n",
       "      <td>0</td>\n",
       "      <td>0</td>\n",
       "      <td>1</td>\n",
       "      <td>18</td>\n",
       "      <td>...</td>\n",
       "      <td>0</td>\n",
       "      <td>1369.0000</td>\n",
       "      <td>0</td>\n",
       "      <td>0.000</td>\n",
       "      <td>0</td>\n",
       "      <td>0</td>\n",
       "      <td>1244.00</td>\n",
       "      <td>5</td>\n",
       "      <td>0</td>\n",
       "      <td>0.5464</td>\n",
       "    </tr>\n",
       "  </tbody>\n",
       "</table>\n",
       "<p>4446966 rows × 29 columns</p>\n",
       "</div>"
      ],
      "text/plain": [
       "                     Id         groupId         matchId  assists  boosts  \\\n",
       "0        7f96b2f878858a  4d4b580de459be  a10357fd1a4a91        0       0   \n",
       "1        eef90569b9d03c  684d5656442f9e  aeb375fc57110c        0       0   \n",
       "2        1eaf90ac73de72  6a4a42c3245a74  110163d8bb94ae        1       0   \n",
       "3        4616d365dd2853  a930a9c79cd721  f1f1f4ef412d7e        0       0   \n",
       "4        315c96c26c9aac  de04010b3458dd  6dc8ff871e21e6        0       0   \n",
       "...                 ...             ...             ...      ...     ...   \n",
       "4446961  afff7f652dbc10  d238e426f50de7  18492834ce5635        0       0   \n",
       "4446962  f4197cf374e6c0  408cdb5c46b2ac  ee854b837376d9        0       1   \n",
       "4446963  e1948b1295c88a  e26ac84bdf7cef  6d0cd12784f1ab        0       0   \n",
       "4446964  cc032cdd73b7ac  c2223f35411394  c9c701d0ad758a        0       4   \n",
       "4446965  0d8e7ed728b6fd  8c74f72fedf5ff  62a16aabcc095c        0       2   \n",
       "\n",
       "         damageDealt  DBNOs  headshotKills  heals  killPlace  ...  revives  \\\n",
       "0               0.00      0              0      0         60  ...        0   \n",
       "1              91.47      0              0      0         57  ...        0   \n",
       "2              68.00      0              0      0         47  ...        0   \n",
       "3              32.90      0              0      0         75  ...        0   \n",
       "4             100.00      0              0      0         45  ...        0   \n",
       "...              ...    ...            ...    ...        ...  ...      ...   \n",
       "4446961         0.00      0              0      0         74  ...        0   \n",
       "4446962        44.15      0              0      0         69  ...        0   \n",
       "4446963        59.06      0              0      0         66  ...        0   \n",
       "4446964       180.40      1              1      2         11  ...        2   \n",
       "4446965       268.00      0              0      1         18  ...        0   \n",
       "\n",
       "         rideDistance  roadKills  swimDistance  teamKills vehicleDestroys  \\\n",
       "0              0.0000          0         0.000          0               0   \n",
       "1              0.0045          0        11.040          0               0   \n",
       "2              0.0000          0         0.000          0               0   \n",
       "3              0.0000          0         0.000          0               0   \n",
       "4              0.0000          0         0.000          0               0   \n",
       "...               ...        ...           ...        ...             ...   \n",
       "4446961     1292.0000          0         0.000          0               0   \n",
       "4446962        0.0000          0         0.000          0               0   \n",
       "4446963        0.0000          0         2.184          0               0   \n",
       "4446964        0.0000          0         0.000          0               0   \n",
       "4446965     1369.0000          0         0.000          0               0   \n",
       "\n",
       "         walkDistance  weaponsAcquired  winPoints  winPlacePerc  \n",
       "0              244.80                1       1466        0.4444  \n",
       "1             1434.00                5          0        0.6400  \n",
       "2              161.80                2          0        0.7755  \n",
       "3              202.70                3          0        0.1667  \n",
       "4               49.75                2          0        0.1875  \n",
       "...               ...              ...        ...           ...  \n",
       "4446961       1019.00                3       1507        0.1786  \n",
       "4446962         81.70                6          0        0.2935  \n",
       "4446963        788.70                4          0        0.4815  \n",
       "4446964       2748.00                8          0        0.8000  \n",
       "4446965       1244.00                5          0        0.5464  \n",
       "\n",
       "[4446966 rows x 29 columns]"
      ]
     },
     "execution_count": 16,
     "metadata": {},
     "output_type": "execute_result"
    }
   ],
   "source": [
    "df"
   ]
  },
  {
   "cell_type": "code",
   "execution_count": 17,
   "id": "d440a8b0",
   "metadata": {},
   "outputs": [],
   "source": [
    "df = df.dropna()"
   ]
  },
  {
   "cell_type": "code",
   "execution_count": 18,
   "id": "16ed4c0f",
   "metadata": {},
   "outputs": [
    {
     "name": "stderr",
     "output_type": "stream",
     "text": [
      "C:\\Users\\Public\\Documents\\ESTsoft\\CreatorTemp\\ipykernel_5260\\2704415269.py:2: SettingWithCopyWarning: \n",
      "A value is trying to be set on a copy of a slice from a DataFrame.\n",
      "Try using .loc[row_indexer,col_indexer] = value instead\n",
      "\n",
      "See the caveats in the documentation: https://pandas.pydata.org/pandas-docs/stable/user_guide/indexing.html#returning-a-view-versus-a-copy\n",
      "  df['totalDistance'] = df['walkDistance'] + df['rideDistance'] + df['swimDistance']\n"
     ]
    }
   ],
   "source": [
    "# 총 이동 거리 계산\n",
    "df['totalDistance'] = df['walkDistance'] + df['rideDistance'] + df['swimDistance']"
   ]
  },
  {
   "cell_type": "markdown",
   "id": "08874caa",
   "metadata": {},
   "source": [
    "### 1. 상관관계 확인"
   ]
  },
  {
   "cell_type": "code",
   "execution_count": 19,
   "id": "9301fb39",
   "metadata": {},
   "outputs": [
    {
     "name": "stdout",
     "output_type": "stream",
     "text": [
      "               walkDistance  rideDistance  swimDistance  totalDistance  \\\n",
      "walkDistance       1.000000      0.310936      0.167509       0.757859   \n",
      "rideDistance       0.310936      1.000000      0.049448       0.855586   \n",
      "swimDistance       0.167509      0.049448      1.000000       0.138718   \n",
      "totalDistance      0.757859      0.855586      0.138718       1.000000   \n",
      "winPlacePerc       0.810888      0.342915      0.149607       0.677037   \n",
      "\n",
      "               winPlacePerc  \n",
      "walkDistance       0.810888  \n",
      "rideDistance       0.342915  \n",
      "swimDistance       0.149607  \n",
      "totalDistance      0.677037  \n",
      "winPlacePerc       1.000000  \n"
     ]
    },
    {
     "data": {
      "image/png": "[encoded data removed]",
      "text/plain": [
       "<Figure size 640x480 with 2 Axes>"
      ]
     },
     "metadata": {},
     "output_type": "display_data"
    }
   ],
   "source": [
    "# 상관관계 확인\n",
    "corr = df[['walkDistance', 'rideDistance', 'swimDistance', 'totalDistance', 'winPlacePerc']].corr()\n",
    "print(corr)\n",
    "\n",
    "# 히트맵 시각화\n",
    "sns.heatmap(corr, annot=True, cmap='coolwarm')\n",
    "plt.title('Correlation Matrix')\n",
    "plt.show()"
   ]
  },
  {
   "cell_type": "markdown",
   "id": "481c2fcf",
   "metadata": {},
   "source": [
    "- walkDistance와 winPlacePerc 간의 상관계수 0.81은 매우 강한 양의 상관관계\n",
    "\n",
    "- totalDistance와 winPlacePerc의 상관계수 0.68도 강한 양의 관계\n",
    "\n",
    "- 단, 상관관계는 인과관계를 보장하지는 않습니다 → 회귀 분석과 ANOVA를 통해 보완함"
   ]
  },
  {
   "cell_type": "markdown",
   "id": "8e0b68cf",
   "metadata": {},
   "source": [
    "### 2. 단순 회귀 및 다중 회귀"
   ]
  },
  {
   "cell_type": "code",
   "execution_count": 20,
   "id": "bba49518",
   "metadata": {},
   "outputs": [
    {
     "name": "stdout",
     "output_type": "stream",
     "text": [
      "                            OLS Regression Results                            \n",
      "==============================================================================\n",
      "Dep. Variable:           winPlacePerc   R-squared:                       0.658\n",
      "Model:                            OLS   Adj. R-squared:                  0.658\n",
      "Method:                 Least Squares   F-statistic:                 8.538e+06\n",
      "Date:                Tue, 03 Jun 2025   Prob (F-statistic):               0.00\n",
      "Time:                        17:52:22   Log-Likelihood:             1.3183e+06\n",
      "No. Observations:             4446965   AIC:                        -2.637e+06\n",
      "Df Residuals:                 4446963   BIC:                        -2.637e+06\n",
      "Df Model:                           1                                         \n",
      "Covariance Type:            nonrobust                                         \n",
      "================================================================================\n",
      "                   coef    std err          t      P>|t|      [0.025      0.975]\n",
      "--------------------------------------------------------------------------------\n",
      "const            0.2297      0.000   1927.816      0.000       0.229       0.230\n",
      "walkDistance     0.0002   7.21e-08   2922.044      0.000       0.000       0.000\n",
      "==============================================================================\n",
      "Omnibus:                   230006.578   Durbin-Watson:                   2.000\n",
      "Prob(Omnibus):                  0.000   Jarque-Bera (JB):           784321.090\n",
      "Skew:                           0.171   Prob(JB):                         0.00\n",
      "Kurtosis:                       5.029   Cond. No.                     2.31e+03\n",
      "==============================================================================\n",
      "\n",
      "Notes:\n",
      "[1] Standard Errors assume that the covariance matrix of the errors is correctly specified.\n",
      "[2] The condition number is large, 2.31e+03. This might indicate that there are\n",
      "strong multicollinearity or other numerical problems.\n"
     ]
    }
   ],
   "source": [
    "# (1) 단순 회귀: walkDistance\n",
    "X = sm.add_constant(df['walkDistance'])\n",
    "y = df['winPlacePerc']\n",
    "\n",
    "model = sm.OLS(y, X).fit()\n",
    "print(model.summary())"
   ]
  },
  {
   "cell_type": "markdown",
   "id": "94d39776",
   "metadata": {},
   "source": [
    "- walkDistance 변수 하나만으로도 winPlacePerc의 약 65.8%에 해당하는 변동성을 설명할 수 있음"
   ]
  },
  {
   "cell_type": "code",
   "execution_count": 21,
   "id": "23572d4c",
   "metadata": {},
   "outputs": [
    {
     "name": "stdout",
     "output_type": "stream",
     "text": [
      "                            OLS Regression Results                            \n",
      "==============================================================================\n",
      "Dep. Variable:           winPlacePerc   R-squared:                       0.660\n",
      "Model:                            OLS   Adj. R-squared:                  0.660\n",
      "Method:                 Least Squares   F-statistic:                 2.874e+06\n",
      "Date:                Tue, 03 Jun 2025   Prob (F-statistic):               0.00\n",
      "Time:                        17:52:25   Log-Likelihood:             1.3326e+06\n",
      "No. Observations:             4446965   AIC:                        -2.665e+06\n",
      "Df Residuals:                 4446961   BIC:                        -2.665e+06\n",
      "Df Model:                           3                                         \n",
      "Covariance Type:            nonrobust                                         \n",
      "================================================================================\n",
      "                   coef    std err          t      P>|t|      [0.025      0.975]\n",
      "--------------------------------------------------------------------------------\n",
      "Intercept        0.2147      0.000   1750.027      0.000       0.214       0.215\n",
      "walkDistance     0.0002   7.16e-08   2833.172      0.000       0.000       0.000\n",
      "rideDistance  3.539e-05   5.84e-08    605.762      0.000    3.53e-05    3.55e-05\n",
      "swimDistance     0.0005   2.81e-06    187.485      0.000       0.001       0.001\n",
      "==============================================================================\n",
      "Omnibus:                   250486.949   Durbin-Watson:                   2.000\n",
      "Prob(Omnibus):                  0.000   Jarque-Bera (JB):           966536.916\n",
      "Skew:                           0.143   Prob(JB):                         0.00\n",
      "Kurtosis:                       5.266   Cond. No.                     2.70e+03\n",
      "==============================================================================\n",
      "\n",
      "Notes:\n",
      "[1] Standard Errors assume that the covariance matrix of the errors is correctly specified.\n",
      "[2] The condition number is large, 2.7e+03. This might indicate that there are\n",
      "strong multicollinearity or other numerical problems.\n"
     ]
    }
   ],
   "source": [
    "# (2) 다중 회귀: walkDistance, rideDistance, swimDistance\n",
    "model2 = smf.ols('winPlacePerc ~ walkDistance + rideDistance + swimDistance', data=df).fit()\n",
    "print(model2.summary())"
   ]
  },
  {
   "cell_type": "markdown",
   "id": "6b656dd8",
   "metadata": {},
   "source": [
    "- walkDistance, rideDistance, swimDistance는 함께 winPlacePerc의 분산 중 약 66%를 설명 가능\n",
    "\n",
    "- 각 변수의 p-value <0.05로 모두 통계적으로 유의한 양(+)의 영향을 미침"
   ]
  },
  {
   "cell_type": "markdown",
   "id": "f740811a",
   "metadata": {},
   "source": [
    "### 3. 다중공선성 확인 (VIF)"
   ]
  },
  {
   "cell_type": "code",
   "execution_count": 22,
   "id": "f738c982",
   "metadata": {},
   "outputs": [
    {
     "name": "stdout",
     "output_type": "stream",
     "text": [
      "\n",
      "[VIF 확인]\n",
      "        feature       VIF\n",
      "0         const  1.961466\n",
      "1  walkDistance  1.136165\n",
      "2  rideDistance  1.106760\n",
      "3  swimDistance  1.028640\n"
     ]
    }
   ],
   "source": [
    "X_vif = df[['walkDistance', 'rideDistance', 'swimDistance']]\n",
    "X_vif = sm.add_constant(X_vif)\n",
    "vif_data = pd.DataFrame()\n",
    "vif_data['feature'] = X_vif.columns\n",
    "vif_data['VIF'] = [variance_inflation_factor(X_vif.values, i) for i in range(X_vif.shape[1])]\n",
    "print('\\n[VIF 확인]')\n",
    "print(vif_data)"
   ]
  },
  {
   "cell_type": "markdown",
   "id": "f7e043e3",
   "metadata": {},
   "source": [
    "- 다중공선성 문제 없음"
   ]
  },
  {
   "cell_type": "markdown",
   "id": "c66e54ff",
   "metadata": {},
   "source": [
    "### 4. 이동 거리 수준 그룹화"
   ]
  },
  {
   "cell_type": "code",
   "execution_count": 23,
   "id": "4b4f8b19",
   "metadata": {},
   "outputs": [
    {
     "name": "stderr",
     "output_type": "stream",
     "text": [
      "C:\\Users\\Public\\Documents\\ESTsoft\\CreatorTemp\\ipykernel_5260\\237807446.py:1: SettingWithCopyWarning: \n",
      "A value is trying to be set on a copy of a slice from a DataFrame.\n",
      "Try using .loc[row_indexer,col_indexer] = value instead\n",
      "\n",
      "See the caveats in the documentation: https://pandas.pydata.org/pandas-docs/stable/user_guide/indexing.html#returning-a-view-versus-a-copy\n",
      "  df['distance_level'] = pd.qcut(df['totalDistance'], q=3, labels=['Low', 'Medium', 'High'])\n"
     ]
    }
   ],
   "source": [
    "df['distance_level'] = pd.qcut(df['totalDistance'], q=3, labels=['Low', 'Medium', 'High'])"
   ]
  },
  {
   "cell_type": "code",
   "execution_count": 26,
   "id": "ca6618b7",
   "metadata": {},
   "outputs": [
    {
     "name": "stdout",
     "output_type": "stream",
     "text": [
      "\n",
      "[ANOVA] F-value: 3961468.827, p-value: 0.000e+00\n"
     ]
    }
   ],
   "source": [
    "# ANOVA 분석\n",
    "f_val, p_val = stats.f_oneway(low, med, high)\n",
    "print(f\"\\n[ANOVA] F-value: {f_val:.3f}, p-value: {p_val:.3e}\")"
   ]
  },
  {
   "cell_type": "markdown",
   "id": "b3a47b39",
   "metadata": {},
   "source": [
    "- p < 0.05로 귀무가설 기각, 그룹 간 차이 있음"
   ]
  },
  {
   "cell_type": "code",
   "execution_count": 27,
   "id": "b49bebff",
   "metadata": {},
   "outputs": [
    {
     "name": "stderr",
     "output_type": "stream",
     "text": [
      "C:\\Users\\Public\\Documents\\ESTsoft\\CreatorTemp\\ipykernel_5260\\2306873652.py:2: FutureWarning: \n",
      "\n",
      "Passing `palette` without assigning `hue` is deprecated and will be removed in v0.14.0. Assign the `x` variable to `hue` and set `legend=False` for the same effect.\n",
      "\n",
      "  sns.boxplot(x='distance_level', y='winPlacePerc', data=df, palette='Set2')\n"
     ]
    },
    {
     "data": {
      "image/png": "[encoded data removed]",
      "text/plain": [
       "<Figure size 640x480 with 1 Axes>"
      ]
     },
     "metadata": {},
     "output_type": "display_data"
    }
   ],
   "source": [
    "# Boxplot 시각화\n",
    "sns.boxplot(x='distance_level', y='winPlacePerc', data=df, palette='Set2')\n",
    "plt.title('WinPlacePerc by Distance Group')\n",
    "plt.show()"
   ]
  },
  {
   "cell_type": "markdown",
   "id": "deb9c719",
   "metadata": {},
   "source": [
    "- totalDistance 그룹 간에 winPlacePerc의 평균에 통계적으로 유의한 차이가 있음이 확인됨\n",
    "- 즉, 플레이어가 더 많이 이동할수록 높은 순위를 기록할 가능성이 크다는 것을 시사함"
   ]
  }
 ],
 "metadata": {
  "kernelspec": {
   "display_name": "ming",
   "language": "python",
   "name": "python3"
  },
  "language_info": {
   "codemirror_mode": {
    "name": "ipython",
    "version": 3
   },
   "file_extension": ".py",
   "mimetype": "text/x-python",
   "name": "python",
   "nbconvert_exporter": "python",
   "pygments_lexer": "ipython3",
   "version": "3.12.2"
  }
 },
 "nbformat": 4,
 "nbformat_minor": 5
}
